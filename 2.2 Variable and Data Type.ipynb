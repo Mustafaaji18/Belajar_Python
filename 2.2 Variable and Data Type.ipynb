{
 "cells": [
  {
   "cell_type": "code",
   "execution_count": 10,
   "metadata": {},
   "outputs": [
    {
     "name": "stdout",
     "output_type": "stream",
     "text": [
      "5\n",
      "5\n"
     ]
    }
   ],
   "source": [
    "# Variable\n",
    "# Aturan penulisan Variable\n",
    "# 1. Huruf pertama harus huruf atau garis bawah (_)\n",
    "\n",
    "Code = 5\n",
    "print (Code)\n",
    "\n",
    "_Code = 5 \n",
    "print (_Code)"
   ]
  },
  {
   "cell_type": "code",
   "execution_count": 11,
   "metadata": {},
   "outputs": [
    {
     "ename": "SyntaxError",
     "evalue": "invalid decimal literal (4017318590.py, line 2)",
     "output_type": "error",
     "traceback": [
      "\u001b[1;36m  Cell \u001b[1;32mIn[11], line 2\u001b[1;36m\u001b[0m\n\u001b[1;33m    1Code = 5\u001b[0m\n\u001b[1;37m    ^\u001b[0m\n\u001b[1;31mSyntaxError\u001b[0m\u001b[1;31m:\u001b[0m invalid decimal literal\n"
     ]
    }
   ],
   "source": [
    "# 2. Huruf pertama tidak boleh ditulis dengan angka atau tanda baca apapun selain aturan nomor satu\n",
    "1Code = 5\n",
    "print(1Code)\n",
    "\n",
    "@Code = 5\n",
    "print(@Code)"
   ]
  },
  {
   "cell_type": "code",
   "execution_count": 12,
   "metadata": {},
   "outputs": [
    {
     "name": "stdout",
     "output_type": "stream",
     "text": [
      "5\n",
      "6\n"
     ]
    }
   ],
   "source": [
    "# 3. Karakter nama variable bersifat sensitif, perlu diperhatikan besar kecilnya huruf\n",
    "Code = 5\n",
    "print(Code)\n",
    "\n",
    "code = 6\n",
    "print(code)"
   ]
  },
  {
   "cell_type": "code",
   "execution_count": 14,
   "metadata": {},
   "outputs": [
    {
     "name": "stdout",
     "output_type": "stream",
     "text": [
      "1\n",
      "Dua\n",
      "1\n",
      "2.1\n",
      "Tiga\n",
      "1\n",
      "1\n",
      "1\n"
     ]
    }
   ],
   "source": [
    "# Cara penulisan variable dapat dituliskan sebagai berikut\n",
    "# Cara 1\n",
    "Angka_1 = 1\n",
    "print(Angka_1)\n",
    "\n",
    "Angka_2 = \"Dua\"\n",
    "print(Angka_2)\n",
    "\n",
    "# Cara 2\n",
    "Var_1, Var_2, Var_3 = 1, 2.1, \"Tiga\"\n",
    "print(Var_1)\n",
    "print(Var_2)\n",
    "print(Var_3)\n",
    "\n",
    "# Cara 3 \n",
    "Meja = kursi = Komputer = 1\n",
    "print(Meja)\n",
    "print(kursi)\n",
    "print(Komputer)"
   ]
  },
  {
   "cell_type": "code",
   "execution_count": 15,
   "metadata": {},
   "outputs": [
    {
     "name": "stdout",
     "output_type": "stream",
     "text": [
      "3.14\n",
      "9.8\n",
      "30000000000.0\n"
     ]
    }
   ],
   "source": [
    "# Konstanta, suatu nilai ketetapan pada suatu variable (ditulis dengan huruf kapital)\n",
    "PI = 3.14\n",
    "GRAVITY = 9.8\n",
    "LIGHTSPEED = 3e10\n",
    "\n",
    "print(PI)\n",
    "print(GRAVITY)\n",
    "print(LIGHTSPEED)"
   ]
  },
  {
   "cell_type": "code",
   "execution_count": 25,
   "metadata": {},
   "outputs": [
    {
     "name": "stdout",
     "output_type": "stream",
     "text": [
      "<class 'int'>\n",
      "<class 'str'>\n",
      "<class 'float'>\n",
      "<class 'float'>\n",
      "<class 'int'>\n",
      "<class 'bool'>\n",
      "<class 'bool'>\n",
      "<class 'list'>\n",
      "<class 'tuple'>\n",
      "<class 'dict'>\n"
     ]
    }
   ],
   "source": [
    "# Cara cek tipe data suatu variable\n",
    "V1 = 1\n",
    "print (type(V1))\n",
    "\n",
    "V2 = \"Satu\"\n",
    "print(type(V2))\n",
    "\n",
    "V3 = 3.8\n",
    "print(type(V3))\n",
    "\n",
    "V4 = 3/8\n",
    "print(type(V4))\n",
    "\n",
    "v5 = 0b1001\n",
    "print(type(v5))\n",
    "\n",
    "V6 = True\n",
    "print(type(V6))\n",
    "\n",
    "V7 = False\n",
    "print(type(V7))\n",
    "\n",
    "V8 = [1, 2.2, 'Tiga']\n",
    "print(type(V8))\n",
    "\n",
    "V9 = (1, 'program', 1+3)\n",
    "print(type(V9))\n",
    "\n",
    "V10 = {'key': 1, 'value': 3}\n",
    "print(type(V10))"
   ]
  },
  {
   "cell_type": "code",
   "execution_count": 16,
   "metadata": {},
   "outputs": [
    {
     "name": "stdout",
     "output_type": "stream",
     "text": [
      "11\n"
     ]
    }
   ],
   "source": [
    "# Nilai biner ditulis dengan diawali 0b\n",
    "Nb = 0b1011\n",
    "print(Nb)"
   ]
  },
  {
   "cell_type": "code",
   "execution_count": 17,
   "metadata": {},
   "outputs": [
    {
     "name": "stdout",
     "output_type": "stream",
     "text": [
      "Aku lagi belajar ngoding\n",
      "A\n"
     ]
    }
   ],
   "source": [
    "# Tipe data\n",
    "# 1. String\n",
    "A = \"Aku lagi belajar ngoding\"\n",
    "print(A)\n",
    "print('A')"
   ]
  },
  {
   "cell_type": "code",
   "execution_count": 23,
   "metadata": {},
   "outputs": [
    {
     "name": "stdout",
     "output_type": "stream",
     "text": [
      "AKU LAGI BELAJAR NGODING\n",
      "aku lagi belajar ngoding\n",
      "Aku lagi belajar mengaji\n",
      "Projek AI sering menggunakan bahasa pemrogaman Python\n",
      "Projek AI sering menggunakan bahasa pemrogaman Python\n"
     ]
    }
   ],
   "source": [
    "# Cara untuk mengubah tulisan dengan tipe data string untuk menjadi huruf kapital\n",
    "A = \"Aku lagi belajar ngoding\"\n",
    "B = A.upper()\n",
    "print (B)\n",
    "\n",
    "# Cara untuk mengubah tulisan dengan tipe data string untuk menjadi huruf kecil\n",
    "C = A.lower()\n",
    "print(C)\n",
    "\n",
    "# Cara mengubah kata pada suatu kalimat pada sebuah variable\n",
    "D = A.replace('ngoding', 'mengaji')\n",
    "print (D)\n",
    "\n",
    "# Cara mengisi suatu kata dalam kalimat dengan memasukkan value di variable\n",
    "# Cara Baru\n",
    "E = \"Python\"\n",
    "F = f\"Projek AI sering menggunakan bahasa pemrogaman {E}\"\n",
    "print(F)\n",
    "\n",
    "# Cara Lama\n",
    "G = \"Projek AI sering menggunakan bahasa pemrogaman {}\". format(E)\n",
    "print(G)"
   ]
  },
  {
   "cell_type": "code",
   "execution_count": 18,
   "metadata": {},
   "outputs": [
    {
     "name": "stdout",
     "output_type": "stream",
     "text": [
      "1\n"
     ]
    }
   ],
   "source": [
    "# 2. Interger (Variable angka bulat)\n",
    "Angka = 1\n",
    "print(Angka)"
   ]
  },
  {
   "cell_type": "code",
   "execution_count": 21,
   "metadata": {},
   "outputs": [
    {
     "name": "stdout",
     "output_type": "stream",
     "text": [
      "3.8\n",
      "3.8\n",
      "3.8\n"
     ]
    }
   ],
   "source": [
    "# 3. Float (Variable angka pecahan)\n",
    "Float = 3.8\n",
    "FLoat = 38/10\n",
    "FLOat = 0.38e1 # penulisan e dibelakang angka pecahan dimaksudkan sebagai pengali 10 dengan jumlah 0 yang berjumlah angka dibelakang e\n",
    "print(Float)\n",
    "print(FLoat)\n",
    "print(FLOat)"
   ]
  },
  {
   "cell_type": "code",
   "execution_count": 48,
   "metadata": {},
   "outputs": [
    {
     "name": "stdout",
     "output_type": "stream",
     "text": [
      "4\n",
      "3.8\n"
     ]
    }
   ],
   "source": [
    "# Cara pembulatan keatas\n",
    "C = 38/10\n",
    "D = C.__ceil__()\n",
    "print(D)\n",
    "\n",
    "# Cara Pembulatan kebawah\n",
    "E = C.__float__()\n",
    "print(E)"
   ]
  },
  {
   "cell_type": "code",
   "execution_count": 33,
   "metadata": {},
   "outputs": [
    {
     "name": "stdout",
     "output_type": "stream",
     "text": [
      "True\n",
      "False\n",
      "True\n",
      "True\n",
      "False\n",
      "False\n",
      "False\n",
      "True\n"
     ]
    }
   ],
   "source": [
    "# 4. Boolean (Logika True False)\n",
    "Data = True\n",
    "print(Data)\n",
    "\n",
    "data = False\n",
    "print(data)\n",
    "\n",
    "print(Data or data)\n",
    "print(Data or Data)\n",
    "print(data and data)\n",
    "print(Data and data)\n",
    "print(data & Data)\n",
    "print(Data | data)"
   ]
  },
  {
   "cell_type": "code",
   "execution_count": 35,
   "metadata": {},
   "outputs": [
    {
     "name": "stdout",
     "output_type": "stream",
     "text": [
      "[1, 2.2, 'python']\n",
      "<class 'list'>\n"
     ]
    }
   ],
   "source": [
    "# 5. list\n",
    "list = [1, 2.2, 'python']\n",
    "print(list)\n",
    "print(type(list))"
   ]
  },
  {
   "cell_type": "code",
   "execution_count": 36,
   "metadata": {},
   "outputs": [
    {
     "name": "stdout",
     "output_type": "stream",
     "text": [
      "(1, 'tiga', 4)\n",
      "<class 'tuple'>\n"
     ]
    }
   ],
   "source": [
    "# 6. Tuple\n",
    "tuple = (1, 'tiga', 1+3)\n",
    "print(tuple)\n",
    "print(type(tuple))"
   ]
  },
  {
   "cell_type": "code",
   "execution_count": 37,
   "metadata": {},
   "outputs": [
    {
     "name": "stdout",
     "output_type": "stream",
     "text": [
      "{'key': 1, 'value': 2}\n",
      "<class 'dict'>\n"
     ]
    }
   ],
   "source": [
    "# 7. Dictionary\n",
    "Dict = {'key': 1, 'value': 2}\n",
    "print(Dict)\n",
    "print(type(Dict))"
   ]
  },
  {
   "cell_type": "code",
   "execution_count": 44,
   "metadata": {},
   "outputs": [
    {
     "name": "stdout",
     "output_type": "stream",
     "text": [
      "False\n",
      "True\n",
      "True\n",
      "False\n"
     ]
    }
   ],
   "source": [
    "b = False\n",
    "print (b == 1) # == artinya adalah\n",
    "print (b == 0)\n",
    "\n",
    "a = True\n",
    "print (a == 1)\n",
    "print (a == 0)"
   ]
  }
 ],
 "metadata": {
  "kernelspec": {
   "display_name": "Python 3",
   "language": "python",
   "name": "python3"
  },
  "language_info": {
   "codemirror_mode": {
    "name": "ipython",
    "version": 3
   },
   "file_extension": ".py",
   "mimetype": "text/x-python",
   "name": "python",
   "nbconvert_exporter": "python",
   "pygments_lexer": "ipython3",
   "version": "3.11.5"
  },
  "orig_nbformat": 4
 },
 "nbformat": 4,
 "nbformat_minor": 2
}
